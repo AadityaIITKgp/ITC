{
 "cells": [
  {
   "cell_type": "code",
   "execution_count": 257,
   "id": "70654039",
   "metadata": {},
   "outputs": [],
   "source": [
    "import matplotlib.pyplot as plt\n",
    "import numpy as np\n",
    "import pandas as pd\n",
    "from sympy.solvers import solve\n",
    "from sympy import Symbol\n",
    "from scipy.optimize import fsolve\n",
    "from scipy.optimize import least_squares\n",
    "from tkinter import Tk\n",
    "import customtkinter as CTk\n",
    "from tkinter.filedialog import askopenfile\n",
    "import helpers\n",
    "from scipy.optimize import least_squares"
   ]
  },
  {
   "cell_type": "code",
   "execution_count": 339,
   "id": "7b8d76ce",
   "metadata": {},
   "outputs": [],
   "source": [
    "class ITC_model():\n",
    "    \n",
    "    \n",
    "    def __init__(self , name , eqn , species_formed , dissociation_constants , dH , formula):\n",
    "        \n",
    "        # This step defines the model\n",
    "        \n",
    "        self.name = name\n",
    "        self.equations = [ele.replace(' ' , '') for ele in eqn.split(';')]\n",
    "        self.species_formed = [ele.replace(' ' , '') for ele in species_formed.split(';')]\n",
    "        self.Kds = np.float64([ele.replace(' ' , '') for ele in dissociation_constants.split(';')])\n",
    "        self.dH = np.float64([ele.replace(' ' , '') for ele in dH.split(';')])\n",
    "        self.formula = [tuple(ele.replace(' ' , '').split(';')) for ele in formula]\n",
    "        \n",
    "        self.update_formula()\n",
    "        \n",
    "    def split(self , s):\n",
    "        \n",
    "        '''\n",
    "        \n",
    "        Given the string this function splits it into different elements based on mathematical operators\n",
    "        Example: \n",
    "            Input: \n",
    "                a + b - c / e * (a + b)\n",
    "            Output: \n",
    "                1. [a , b , c , e , a , b]\n",
    "                2. [+ , - , / , *( , + , )]\n",
    "        \n",
    "        '''\n",
    "        \n",
    "        lst1 = list()\n",
    "        lst2 = list()\n",
    "        \n",
    "        operators = ['+' , '-' , '*' , '/' , '**' , '(' , ')']\n",
    "        \n",
    "        last_option = None\n",
    "        \n",
    "        for i in range(len(s)):\n",
    "            \n",
    "            if s[i] in operators:\n",
    "                \n",
    "                if last_option != 'Operator':\n",
    "                    \n",
    "                    lst2.append(s[i])\n",
    "                    last_option = 'Operator'\n",
    "                    \n",
    "                else:\n",
    "                    \n",
    "                    lst2[-1] = lst2[-1] + s[i]\n",
    "                    \n",
    "            else:\n",
    "                \n",
    "                if last_option != 'Variable':\n",
    "                    \n",
    "                    lst1.append(s[i])\n",
    "                    last_option = 'Variable'\n",
    "                    \n",
    "                else:\n",
    "                    \n",
    "                    lst1[-1] = lst1[-1] + s[i]\n",
    "                \n",
    "        \n",
    "        return lst1 , lst2  \n",
    "        \n",
    "    def update_formula(self):\n",
    "        \n",
    "        # This method changes formula in such a way that it can be used by eval function\n",
    "        \n",
    "        final_formula = list()\n",
    "        \n",
    "        lst = ['Rtotal' , 'Ltotal']\n",
    "        \n",
    "        for ele in self.formula:\n",
    "            \n",
    "            f = ele[0]\n",
    "            \n",
    "            lst1 , lst2 = self.split(f)\n",
    "            \n",
    "            for i in range(len(lst1)):\n",
    "                \n",
    "                if lst1[i] in lst:\n",
    "                    \n",
    "                    lst1[i] = 'self.' + lst1[i]\n",
    "                    continue\n",
    "                    \n",
    "                elif 'Kd' in lst1[i]:\n",
    "                    \n",
    "                    lst1[i] = 'self.Kds[\\'' + lst1[i] + '\\']'\n",
    "                    \n",
    "                elif lst1[i] == ele[1]:\n",
    "                    \n",
    "                    if ele[2] == 'Numeric':\n",
    "                    \n",
    "                        lst1[i] = 'x'\n",
    "                        continue\n",
    "                        \n",
    "                    else:\n",
    "                        \n",
    "                        lst1[i] = 'Symbol(\\'x\\')'\n",
    "                        continue\n",
    "                    \n",
    "                elif (lst1[i] in ['R' , 'L'] or lst1[i] in self.species_formed) and lst1[i] != ele[1]:\n",
    "                    \n",
    "                    lst1[i] = 'self.conc[\\'' + lst1[i] + '\\']'\n",
    "            \n",
    "            s = lst1[0]\n",
    "            \n",
    "            for i in range(len(lst2)):\n",
    "                \n",
    "                s = s + lst2[i] + lst1[i + 1]\n",
    "        \n",
    "            final_formula.append((s , ele[1] , ele[2]))\n",
    "        \n",
    "        self.formula = final_formula\n",
    "        \n",
    "    def display(self):\n",
    "        \n",
    "        # This function is to display the information about the model\n",
    "        \n",
    "        print('Model: ' ,  self.name)\n",
    "        \n",
    "        # Equations\n",
    "        \n",
    "        print('Equations: ')\n",
    "        \n",
    "        for i in range(len(self.equations)):\n",
    "            \n",
    "            print(str(i+1) + '. ' + self.equations[i])\n",
    "            \n",
    "        # Species produced\n",
    "        \n",
    "        print('Species formed: ')\n",
    "        \n",
    "        for i in range(len(self.species_formed)):\n",
    "            \n",
    "            print(str(i+1) + '. ' + self.species_formed[i])\n",
    "            \n",
    "        # Kds\n",
    "        \n",
    "        print('Dissociation constants: ')\n",
    "        \n",
    "        for i in range(len(self.Kds)):\n",
    "            \n",
    "            print(str(i+1) + '. Kd' + str(i+1) + ' = ' + str(self.Kds[i]))\n",
    "            \n",
    "        # Formula\n",
    "        \n",
    "        print('Formula: ')\n",
    "            \n",
    "        for i in range(len(self.formula)):\n",
    "            \n",
    "            print(str(i+1) + '. ' + self.formula[i][0] + '; ' +  self.formula[i][1] + '; ' +  self.formula[i][2])\n",
    "        "
   ]
  },
  {
   "cell_type": "code",
   "execution_count": 340,
   "id": "6adaed38",
   "metadata": {},
   "outputs": [
    {
     "name": "stdout",
     "output_type": "stream",
     "text": [
      "Model:  UR2\n",
      "Equations: \n",
      "1. R+l->RL\n",
      "Species formed: \n",
      "1. RL\n",
      "Dissociation constants: \n",
      "1. Kd1 = 1e-08\n",
      "Formula: \n",
      "1. x**2-x*(self.Ltotal+self.Rtotal+self.Kds['Kd1'])+self.Rtotal*self.Ltotal; RL; Numeric\n"
     ]
    }
   ],
   "source": [
    "eqn = 'R + l -> RL'\n",
    "species_formed = 'RL'\n",
    "dissociation_constants = '1e-8'\n",
    "dH = '-2'\n",
    "formula = ['RL**2 - RL*(Ltotal + Rtotal + Kd1) + Rtotal*Ltotal; RL ; Numeric']\n",
    "\n",
    "\n",
    "g = ITC_model('UR2' , eqn , species_formed , dissociation_constants , dH , formula)\n",
    "\n",
    "g.display()"
   ]
  },
  {
   "cell_type": "code",
   "execution_count": 468,
   "id": "e9248941",
   "metadata": {
    "scrolled": true
   },
   "outputs": [
    {
     "name": "stdout",
     "output_type": "stream",
     "text": [
      "Model:  UR2\n",
      "Equations: \n",
      "1. R+l->RL\n",
      "2. R+R->R2\n",
      "Species formed: \n",
      "1. RL\n",
      "2. R2\n",
      "Dissociation constants: \n",
      "1. Kd1 = 1e-08\n",
      "2. Kd2 = 0.005\n",
      "Formula: \n",
      "1. self.Rtotal-self.Kds['Kd1']*(self.Ltotal-x)/x-(self.Ltotal-x)-2*(1/self.Kds['Kd2'])*(self.Kds['Kd1']*(self.Ltotal-x)/x)**2; L; Numeric\n",
      "2. x-self.Ltotal+self.conc['L']; RL; Numeric\n",
      "3. x-self.Kds['Kd1']*self.conc['RL']/self.conc['L']; R; Numeric\n",
      "4. x-self.conc['R']*self.conc['R']/self.Kds['Kd2']; R2; Numeric\n"
     ]
    }
   ],
   "source": [
    "eqn = 'R + l -> RL ; R + R -> R2'\n",
    "species_formed = 'RL; R2'\n",
    "dissociation_constants = '1e-8 ; 5e-3'\n",
    "dH = '-2 ; 1'\n",
    "formula = ['Rtotal - Kd1 * (Ltotal - L) / L - (Ltotal - L) - 2 * (1/Kd2) * (Kd1 * (Ltotal - L) / L) ** 2 ; L ; Numeric'  , 'RL - Ltotal + L ; RL ; Numeric' , 'R - Kd1 * RL / L ; R ; Numeric' , 'R2 - R * R / Kd2 ; R2 ; Numeric']\n",
    "\n",
    "g = ITC_model('UR2' , eqn , species_formed , dissociation_constants , dH , formula)\n",
    "\n",
    "g.display()"
   ]
  },
  {
   "cell_type": "code",
   "execution_count": 469,
   "id": "8b422f02",
   "metadata": {},
   "outputs": [],
   "source": [
    "class ITC_simulation():\n",
    "    \n",
    "    def __init__(self , model):\n",
    "        \n",
    "        self.model = model\n",
    "        self.LRratio = [1.0e-3]\n",
    "        [self.LRratio.append(ele) for ele in np.linspace(0.1 , 1.4 , 1400)]\n",
    "        self.Rtotal = 1.0e-3\n",
    "        self.Ltotal = None\n",
    "        self.Kds = dict()\n",
    "        self.formula = self.model.formula\n",
    "        self.conc_list = {'L' : [] , 'R' : []}\n",
    "        for i in range(len(self.model.Kds)):\n",
    "            \n",
    "            self.Kds['Kd' + str(i + 1)] = self.model.Kds[i]\n",
    "            \n",
    "        self.conc = {'L' : None , 'R' : None}\n",
    "        \n",
    "        for molecule in self.model.species_formed:\n",
    "            \n",
    "            self.conc[molecule] = None\n",
    "            self.conc_list[molecule] = []\n",
    "    \n",
    "    def func(self , x , f):\n",
    "        \n",
    "        return eval(f)\n",
    "    \n",
    "    def get_value(self , temp):\n",
    "        \n",
    "        print(type(temp))\n",
    "        \n",
    "        if type(temp) == dict:\n",
    "            \n",
    "            return list(temp.values())[0]\n",
    "        \n",
    "        else:\n",
    "            \n",
    "            return temp[0]\n",
    "    \n",
    "    def simulate(self):\n",
    "        \n",
    "        plt.figure()\n",
    "        \n",
    "        for ratio in self.LRratio:\n",
    "            \n",
    "            self.Ltotal = ratio * self.Rtotal\n",
    "            \n",
    "            for f in self.formula:\n",
    "                \n",
    "                if f[2] == 'Numeric':\n",
    "                    \n",
    "                    self.conc[f[1]] = least_squares(self.func , args = (f[0] , ) , x0 = 0.9 * self.Ltotal, bounds = (0 , self.Ltotal) , method = 'dogbox').x\n",
    "                    \n",
    "                    \n",
    "                else:\n",
    "                    \n",
    "                    temp = solve(eval(f[0]) , Symbol('x') , dict = False)\n",
    "                    \n",
    "                    self.conc[f[1]] = self.get_value(temp)\n",
    "                    \n",
    "                    #print(f[1] , self.conc[f[1]] , f[0])\n",
    "                    \n",
    "                    #self.conc[f[1]] = list(self.conc[f[1]].values())[0]\n",
    "                    \n",
    "                self.conc_list[f[1]].append(self.conc[f[1]] / self.Rtotal)"
   ]
  },
  {
   "cell_type": "code",
   "execution_count": 470,
   "id": "84df7f92",
   "metadata": {},
   "outputs": [],
   "source": [
    "H = ITC_simulation(g)"
   ]
  },
  {
   "cell_type": "code",
   "execution_count": 471,
   "id": "752bfed5",
   "metadata": {},
   "outputs": [
    {
     "data": {
      "text/plain": [
       "\"self.Rtotal-self.Kds['Kd1']*(self.Ltotal-x)/x-(self.Ltotal-x)-2*(1/self.Kds['Kd2'])*(self.Kds['Kd1']*(self.Ltotal-x)/x)**2\""
      ]
     },
     "execution_count": 471,
     "metadata": {},
     "output_type": "execute_result"
    }
   ],
   "source": [
    "H.formula[0][0]"
   ]
  },
  {
   "cell_type": "code",
   "execution_count": 472,
   "id": "8edbb365",
   "metadata": {},
   "outputs": [
    {
     "name": "stderr",
     "output_type": "stream",
     "text": [
      "<string>:1: RuntimeWarning: divide by zero encountered in true_divide\n"
     ]
    },
    {
     "data": {
      "text/plain": [
       "<Figure size 432x288 with 0 Axes>"
      ]
     },
     "metadata": {},
     "output_type": "display_data"
    }
   ],
   "source": [
    "H.simulate()"
   ]
  },
  {
   "cell_type": "code",
   "execution_count": 473,
   "id": "81839cfa",
   "metadata": {},
   "outputs": [
    {
     "name": "stdout",
     "output_type": "stream",
     "text": [
      "L\n",
      "R\n",
      "RL\n",
      "R2\n"
     ]
    },
    {
     "data": {
      "text/plain": [
       "<matplotlib.legend.Legend at 0x1c683b74c40>"
      ]
     },
     "execution_count": 473,
     "metadata": {},
     "output_type": "execute_result"
    },
    {
     "data": {
      "image/png": "[encoded data removed]",
      "text/plain": [
       "<Figure size 900x600 with 1 Axes>"
      ]
     },
     "metadata": {
      "needs_background": "light"
     },
     "output_type": "display_data"
    }
   ],
   "source": [
    "plt.figure(dpi = 150)\n",
    "\n",
    "for ele in H.conc_list:\n",
    "    \n",
    "    print(ele)\n",
    "    plt.plot(H.LRratio , H.conc_list[ele] , label = ele)\n",
    "    \n",
    "plt.legend()"
   ]
  },
  {
   "cell_type": "code",
   "execution_count": 478,
   "id": "20a7083e",
   "metadata": {},
   "outputs": [
    {
     "ename": "TypeError",
     "evalue": "globals must be a real dict; try eval(expr, {}, mapping)",
     "output_type": "error",
     "traceback": [
      "\u001b[1;31m---------------------------------------------------------------------------\u001b[0m",
      "\u001b[1;31mTypeError\u001b[0m                                 Traceback (most recent call last)",
      "\u001b[1;32m~\\AppData\\Local\\Temp/ipykernel_19400/733052151.py\u001b[0m in \u001b[0;36m<module>\u001b[1;34m\u001b[0m\n\u001b[1;32m----> 1\u001b[1;33m \u001b[0meval\u001b[0m\u001b[1;33m(\u001b[0m\u001b[1;34m'x - 5'\u001b[0m \u001b[1;33m,\u001b[0m \u001b[1;34m'x'\u001b[0m\u001b[1;33m)\u001b[0m\u001b[1;33m\u001b[0m\u001b[1;33m\u001b[0m\u001b[0m\n\u001b[0m",
      "\u001b[1;31mTypeError\u001b[0m: globals must be a real dict; try eval(expr, {}, mapping)"
     ]
    }
   ],
   "source": [
    "eval('x - 5' , 'x')"
   ]
  },
  {
   "cell_type": "code",
   "execution_count": null,
   "id": "b7aa7441",
   "metadata": {},
   "outputs": [],
   "source": []
  }
 ],
 "metadata": {
  "kernelspec": {
   "display_name": "Python 3 (ipykernel)",
   "language": "python",
   "name": "python3"
  },
  "language_info": {
   "codemirror_mode": {
    "name": "ipython",
    "version": 3
   },
   "file_extension": ".py",
   "mimetype": "text/x-python",
   "name": "python",
   "nbconvert_exporter": "python",
   "pygments_lexer": "ipython3",
   "version": "3.9.7"
  }
 },
 "nbformat": 4,
 "nbformat_minor": 5
}
