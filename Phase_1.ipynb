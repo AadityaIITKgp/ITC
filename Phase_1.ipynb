{
 "cells": [
  {
   "cell_type": "code",
   "execution_count": 1,
   "id": "0bda24c2",
   "metadata": {},
   "outputs": [],
   "source": [
    "import matplotlib.pyplot as plt\n",
    "import numpy as np\n",
    "import pandas as pd\n",
    "from sympy.solvers import solve\n",
    "from sympy import Symbol"
   ]
  },
  {
   "cell_type": "code",
   "execution_count": 7,
   "id": "13b6d31c",
   "metadata": {},
   "outputs": [],
   "source": [
    "class ITC_Simulation():\n",
    "    \n",
    "    '''\n",
    "    \n",
    "    Usage: This class is defined to input reactions and reactions parameters and simulate ITC experiments for that reaction\n",
    "    \n",
    "    ITC experiments: are used to determine thermodynamic parameters of molecules binding in a solution. It measures heat absorbed or liberated when binding ligand and receptor molecues interact\n",
    "\n",
    "    In this module we will first implement the most basic reaction: R + L ----> RL\n",
    "    \n",
    "    Input: Reaction\n",
    "    Output: ITC Curve at different L/R ratio\n",
    "        \n",
    "    '''\n",
    "    \n",
    "    def __init__(self):\n",
    "        \n",
    "        self.reaction = 'R + L -> RL'\n",
    "        self.LRratio = [1e-3]\n",
    "        [self.LRratio.append(ele) for ele in np.linspace(0.1 , 1.4 , 140)]\n",
    "        self.RTotal = 1e-3\n",
    "        self.Model = {}\n",
    "        self.dH = -1\n",
    "        self.ITC_curve = []\n",
    "        \n",
    "        pass\n",
    "    \n",
    "    def model(self):\n",
    "        \n",
    "        kon = float(input(\"Enter Kon of the reaction: \"))\n",
    "        koff = float(input(\"Enter Koff of the reaction: \"))\n",
    "        \n",
    "        Kd = koff / kon\n",
    "        RL = Symbol('RL')\n",
    "        \n",
    "        \n",
    "        self.Model['kon'] = kon\n",
    "        self.Model['koff'] = koff\n",
    "        self.Model['Kd'] = 1.0/1e5\n",
    "        self.Model['RL'] = RL\n",
    "    \n",
    "    \n",
    "    def solve_equations(self , ratio):\n",
    "        \n",
    "        RL = self.Model['RL']\n",
    "        Ltotal = ratio * self.RTotal\n",
    "        \n",
    "        \n",
    "        RL_conc = solve(str(RL ** 2 - RL * (self.Model['Kd'] + Ltotal + self.RTotal) + self.RTotal * Ltotal))\n",
    "        \n",
    "        \n",
    "        for ele in RL_conc:\n",
    "            \n",
    "            if ele >= 0  and ele <= self.RTotal and ele <= Ltotal:\n",
    "                \n",
    "                return ele\n",
    "        \n",
    "        \n",
    "        \n",
    "    def perform_simulation(self):\n",
    "        \n",
    "        RL_conc = self.solve_equations(self.LRratio[0])\n",
    "        \n",
    "        old_mole_fraction = RL_conc / self.RTotal\n",
    "        \n",
    "        for ratio in self.LRratio[1:]:\n",
    "            \n",
    "            mole_fraction = self.solve_equations(ratio) / self.RTotal\n",
    "            \n",
    "            diff = mole_fraction - old_mole_fraction\n",
    "            \n",
    "            old_mole_fraction = mole_fraction\n",
    "            \n",
    "            self.ITC_curve.append(diff * self.dH)\n",
    "            \n",
    "            \n",
    "    \n",
    "    def display(self):\n",
    "        \n",
    "        plt.figure(dpi = 150)\n",
    "        plt.plot(self.LRratio[2:] , self.ITC_curve[1:])\n",
    "        plt.xlabel(\"Ratio L:R\")\n",
    "        plt.ylabel(\"Heat released\")\n",
    "    \n",
    "    def save_results(self):\n",
    "        \n",
    "        pass\n",
    "        "
   ]
  },
  {
   "cell_type": "code",
   "execution_count": 8,
   "id": "6e47d596",
   "metadata": {},
   "outputs": [],
   "source": [
    "g = ITC_Simulation()"
   ]
  },
  {
   "cell_type": "code",
   "execution_count": 9,
   "id": "316016fd",
   "metadata": {},
   "outputs": [
    {
     "name": "stdout",
     "output_type": "stream",
     "text": [
      "Enter Kon of the reaction: 10\n",
      "Enter Koff of the reaction: 10\n"
     ]
    }
   ],
   "source": [
    "g.model()"
   ]
  },
  {
   "cell_type": "code",
   "execution_count": 10,
   "id": "b3eb68f3",
   "metadata": {},
   "outputs": [],
   "source": [
    "g.perform_simulation()"
   ]
  },
  {
   "cell_type": "code",
   "execution_count": 11,
   "id": "d1d4bb4b",
   "metadata": {},
   "outputs": [
    {
     "data": {
      "image/png": "[encoded data removed]",
      "text/plain": [
       "<Figure size 900x600 with 1 Axes>"
      ]
     },
     "metadata": {
      "needs_background": "light"
     },
     "output_type": "display_data"
    }
   ],
   "source": [
    "g.display()"
   ]
  },
  {
   "cell_type": "code",
   "execution_count": null,
   "id": "0a41304f",
   "metadata": {},
   "outputs": [],
   "source": []
  }
 ],
 "metadata": {
  "kernelspec": {
   "display_name": "Python 3 (ipykernel)",
   "language": "python",
   "name": "python3"
  },
  "language_info": {
   "codemirror_mode": {
    "name": "ipython",
    "version": 3
   },
   "file_extension": ".py",
   "mimetype": "text/x-python",
   "name": "python",
   "nbconvert_exporter": "python",
   "pygments_lexer": "ipython3",
   "version": "3.9.7"
  }
 },
 "nbformat": 4,
 "nbformat_minor": 5
}
